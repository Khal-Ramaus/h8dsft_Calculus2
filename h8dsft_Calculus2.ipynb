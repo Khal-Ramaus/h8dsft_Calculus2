{
  "nbformat": 4,
  "nbformat_minor": 0,
  "metadata": {
    "colab": {
      "name": "h8dsft_Calculus2.ipynb",
      "provenance": [],
      "toc_visible": true,
      "authorship_tag": "ABX9TyNjpLVeqFPl9dKzKZd9GAz+",
      "include_colab_link": true
    },
    "kernelspec": {
      "name": "python3",
      "display_name": "Python 3"
    },
    "language_info": {
      "name": "python"
    }
  },
  "cells": [
    {
      "cell_type": "markdown",
      "metadata": {
        "id": "view-in-github",
        "colab_type": "text"
      },
      "source": [
        "<a href=\"https://colab.research.google.com/github/Khal-Ramaus/h8dsft_Calculus2/blob/master/h8dsft_Calculus2.ipynb\" target=\"_parent\"><img src=\"https://colab.research.google.com/assets/colab-badge.svg\" alt=\"Open In Colab\"/></a>"
      ]
    },
    {
      "cell_type": "markdown",
      "metadata": {
        "id": "HDfUCHkh2GjO"
      },
      "source": [
        "Haikal Ramadhan Usman\n",
        "\n",
        "Non Graded Challenge 8"
      ]
    },
    {
      "cell_type": "markdown",
      "metadata": {
        "id": "JmgWO1ZJ2dIg"
      },
      "source": [
        "#  $\\int (3x^2 - 6x + 3)\\;dx$"
      ]
    },
    {
      "cell_type": "code",
      "metadata": {
        "id": "_C8Ynyr022Nw"
      },
      "source": [
        "import numpy as np\n",
        "import sympy as sy"
      ],
      "execution_count": 1,
      "outputs": []
    },
    {
      "cell_type": "code",
      "metadata": {
        "colab": {
          "base_uri": "https://localhost:8080/",
          "height": 38
        },
        "id": "f_AlYPlz3J5Y",
        "outputId": "4b93147e-f0dd-4cd4-ba0b-a297b218c80d"
      },
      "source": [
        "x=sy.Symbol('x')\n",
        "sy.integrate(3*x**2-6*x+3)"
      ],
      "execution_count": 2,
      "outputs": [
        {
          "output_type": "execute_result",
          "data": {
            "text/latex": "$\\displaystyle x^{3} - 3 x^{2} + 3 x$",
            "text/plain": [
              "x**3 - 3*x**2 + 3*x"
            ]
          },
          "metadata": {
            "tags": []
          },
          "execution_count": 2
        }
      ]
    },
    {
      "cell_type": "markdown",
      "metadata": {
        "id": "M9x0LoYC6OuN"
      },
      "source": [
        "Misal mau cari \n",
        "\n",
        "$\\int_2^5 (3x^2 - 6x + 3)\\;dx$"
      ]
    },
    {
      "cell_type": "code",
      "metadata": {
        "colab": {
          "base_uri": "https://localhost:8080/"
        },
        "id": "gpom-Qup4Fip",
        "outputId": "67f65b3d-1ced-4067-fc63-0cb3d1660d9a"
      },
      "source": [
        "((5**3)-(3*5**2)+(3*5))-((2**3)-(3*2**2)+(3*2))"
      ],
      "execution_count": 6,
      "outputs": [
        {
          "output_type": "execute_result",
          "data": {
            "text/plain": [
              "63"
            ]
          },
          "metadata": {
            "tags": []
          },
          "execution_count": 6
        }
      ]
    },
    {
      "cell_type": "code",
      "metadata": {
        "colab": {
          "base_uri": "https://localhost:8080/"
        },
        "id": "UiA62mZg4eV7",
        "outputId": "5234b730-9d3d-4936-db10-e6f88365704b"
      },
      "source": [
        "from scipy import integrate\n",
        "f=lambda x: 3*x**2-6*x+3\n",
        "A=integrate.quad(f,2,5)\n",
        "A[0]"
      ],
      "execution_count": 7,
      "outputs": [
        {
          "output_type": "execute_result",
          "data": {
            "text/plain": [
              "62.999999999999986"
            ]
          },
          "metadata": {
            "tags": []
          },
          "execution_count": 7
        }
      ]
    },
    {
      "cell_type": "code",
      "metadata": {
        "colab": {
          "base_uri": "https://localhost:8080/"
        },
        "id": "mUUSZt7T5NAV",
        "outputId": "6918efbb-a46b-46f0-d563-48acf3319d00"
      },
      "source": [
        "x=np.linspace(2, 5)\n",
        "y=3*x**2-6*x+3\n",
        "integrate.trapz(y,x)"
      ],
      "execution_count": 9,
      "outputs": [
        {
          "output_type": "execute_result",
          "data": {
            "text/plain": [
              "63.005622657226155"
            ]
          },
          "metadata": {
            "tags": []
          },
          "execution_count": 9
        }
      ]
    },
    {
      "cell_type": "markdown",
      "metadata": {
        "id": "Fa5YupMn6jEg"
      },
      "source": [
        "#  $\\int (8x^3 - x^2 + 5x - 1)\\;dx$"
      ]
    },
    {
      "cell_type": "code",
      "metadata": {
        "colab": {
          "base_uri": "https://localhost:8080/",
          "height": 54
        },
        "id": "Rrmu_qZU6yJy",
        "outputId": "732931a6-9d8e-4d2d-c10a-cdbbb2b2e58e"
      },
      "source": [
        "x=sy.Symbol('x')\n",
        "sy.integrate(8*x**3-x**2+5*x-1)"
      ],
      "execution_count": 11,
      "outputs": [
        {
          "output_type": "execute_result",
          "data": {
            "text/latex": "$\\displaystyle 2 x^{4} - \\frac{x^{3}}{3} + \\frac{5 x^{2}}{2} - x$",
            "text/plain": [
              "2*x**4 - x**3/3 + 5*x**2/2 - x"
            ]
          },
          "metadata": {
            "tags": []
          },
          "execution_count": 11
        }
      ]
    },
    {
      "cell_type": "markdown",
      "metadata": {
        "id": "MO368JYo7HFW"
      },
      "source": [
        "Misal mau cari \n",
        "\n",
        "$\\int_2^5 (8x^3 - x^2 + 5x - 1)\\;dx$"
      ]
    },
    {
      "cell_type": "code",
      "metadata": {
        "colab": {
          "base_uri": "https://localhost:8080/"
        },
        "id": "weQjkdA57U-k",
        "outputId": "061267b0-3539-4473-89e3-2d36a37e3909"
      },
      "source": [
        "((2*5**4)-(5**3/3)+(5*5**2/2)-5)-((2*2**4)-(2**3/3)+(5*2**2/2)-2)"
      ],
      "execution_count": 13,
      "outputs": [
        {
          "output_type": "execute_result",
          "data": {
            "text/plain": [
              "1228.5"
            ]
          },
          "metadata": {
            "tags": []
          },
          "execution_count": 13
        }
      ]
    },
    {
      "cell_type": "code",
      "metadata": {
        "colab": {
          "base_uri": "https://localhost:8080/"
        },
        "id": "mQ2XaeRY7OO3",
        "outputId": "19f03304-e145-4587-daba-6a945ae06089"
      },
      "source": [
        "from scipy import integrate\n",
        "f=lambda x: 8*x**3-x**2+5*x-1\n",
        "A=integrate.quad(f,2,5)\n",
        "A[0]"
      ],
      "execution_count": 12,
      "outputs": [
        {
          "output_type": "execute_result",
          "data": {
            "text/plain": [
              "1228.4999999999998"
            ]
          },
          "metadata": {
            "tags": []
          },
          "execution_count": 12
        }
      ]
    },
    {
      "cell_type": "code",
      "metadata": {
        "colab": {
          "base_uri": "https://localhost:8080/"
        },
        "id": "WbvyJ2QP7ssB",
        "outputId": "9dfa8ad3-5553-4abe-f176-ae7f6d806b6f"
      },
      "source": [
        "x=np.linspace(2, 5)\n",
        "y=8*x**3-x**2+5*x-1\n",
        "integrate.trapz(y,x)"
      ],
      "execution_count": 14,
      "outputs": [
        {
          "output_type": "execute_result",
          "data": {
            "text/plain": [
              "1228.655560183257"
            ]
          },
          "metadata": {
            "tags": []
          },
          "execution_count": 14
        }
      ]
    }
  ]
}